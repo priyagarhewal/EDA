{
  "nbformat": 4,
  "nbformat_minor": 0,
  "metadata": {
    "colab": {
      "provenance": []
    },
    "kernelspec": {
      "name": "python3",
      "display_name": "Python 3"
    },
    "language_info": {
      "name": "python"
    }
  },
  "cells": [
    {
      "cell_type": "markdown",
      "source": [
        "# EDA | Assignment\n",
        "\n",
        "Assignment Code: DA-AG-009"
      ],
      "metadata": {
        "id": "lix1NqRsqvNe"
      }
    },
    {
      "cell_type": "markdown",
      "source": [
        "Question 1: Read the Bike Details dataset into a Pandas DataFrame and display its first 10 rows.\n",
        "\n",
        "(Show the shape and column names as well.)\n",
        "(Include your Python code and output in the code box below.\n"
      ],
      "metadata": {
        "id": "w8jLNXZPozR9"
      }
    },
    {
      "cell_type": "code",
      "source": [
        "import pandas as pd\n",
        "\n",
        "# Load the dataset\n",
        "file_path = \"/content/BIKE DETAILS.csv\"\n",
        "df = pd.read_csv(file_path)\n",
        "\n",
        "# Display the first 10 rows\n",
        "print(\"First 10 rows of the dataset:\\n\", df.head(10))\n",
        "\n",
        "# Display the shape\n",
        "print(\"\\nShape of dataset:\", df.shape)\n",
        "\n",
        "# Display column names\n",
        "print(\"\\nColumn names:\", df.columns.tolist())\n"
      ],
      "metadata": {
        "colab": {
          "base_uri": "https://localhost:8080/"
        },
        "id": "a54Mqc40pZm-",
        "outputId": "fb3df58b-8d29-4b0f-c16d-2c8b97d08ff7"
      },
      "execution_count": null,
      "outputs": [
        {
          "output_type": "stream",
          "name": "stdout",
          "text": [
            "First 10 rows of the dataset:\n",
            "                                    name  selling_price  year seller_type  \\\n",
            "0             Royal Enfield Classic 350         175000  2019  Individual   \n",
            "1                             Honda Dio          45000  2017  Individual   \n",
            "2   Royal Enfield Classic Gunmetal Grey         150000  2018  Individual   \n",
            "3     Yamaha Fazer FI V 2.0 [2016-2018]          65000  2015  Individual   \n",
            "4                 Yamaha SZ [2013-2014]          20000  2011  Individual   \n",
            "5                      Honda CB Twister          18000  2010  Individual   \n",
            "6                  Honda CB Hornet 160R          78500  2018  Individual   \n",
            "7  Royal Enfield Bullet 350 [2007-2011]         180000  2008  Individual   \n",
            "8                Hero Honda CBZ extreme          30000  2010  Individual   \n",
            "9                    Bajaj Discover 125          50000  2016  Individual   \n",
            "\n",
            "       owner  km_driven  ex_showroom_price  \n",
            "0  1st owner        350                NaN  \n",
            "1  1st owner       5650                NaN  \n",
            "2  1st owner      12000           148114.0  \n",
            "3  1st owner      23000            89643.0  \n",
            "4  2nd owner      21000                NaN  \n",
            "5  1st owner      60000            53857.0  \n",
            "6  1st owner      17000            87719.0  \n",
            "7  2nd owner      39000                NaN  \n",
            "8  1st owner      32000                NaN  \n",
            "9  1st owner      42000            60122.0  \n",
            "\n",
            "Shape of dataset: (1061, 7)\n",
            "\n",
            "Column names: ['name', 'selling_price', 'year', 'seller_type', 'owner', 'km_driven', 'ex_showroom_price']\n"
          ]
        }
      ]
    },
    {
      "cell_type": "markdown",
      "source": [
        "Question 2: Check for missing values in all columns and describe your approach for handling them.\n",
        "\n",
        "(Include your Python code and output in the code box below.)\n"
      ],
      "metadata": {
        "id": "hKmnaJetp4zs"
      }
    },
    {
      "cell_type": "code",
      "source": [
        "# Check for missing values in all columns\n",
        "missing_values = df.isnull().sum()\n",
        "\n",
        "# Percentage of missing values\n",
        "missing_percentage = (df.isnull().sum() / len(df)) * 100\n",
        "\n",
        "missing_report = pd.DataFrame({\n",
        "    \"Missing Values\": missing_values,\n",
        "    \"Percentage\": missing_percentage.round(2)\n",
        "})\n",
        "\n",
        "print(\"Missing Values Report:\\n\", missing_report)\n"
      ],
      "metadata": {
        "colab": {
          "base_uri": "https://localhost:8080/"
        },
        "id": "vel_UoHzphmk",
        "outputId": "50cd1b34-82e8-4b47-9ce7-edd8d460572f"
      },
      "execution_count": null,
      "outputs": [
        {
          "output_type": "stream",
          "name": "stdout",
          "text": [
            "Missing Values Report:\n",
            "                    Missing Values  Percentage\n",
            "name                            0         0.0\n",
            "selling_price                   0         0.0\n",
            "year                            0         0.0\n",
            "seller_type                     0         0.0\n",
            "owner                           0         0.0\n",
            "km_driven                       0         0.0\n",
            "ex_showroom_price             435        41.0\n"
          ]
        }
      ]
    },
    {
      "cell_type": "markdown",
      "source": [
        "Question 3: Plot the distribution of selling prices using a histogram and describe the overall trend.\n",
        "(Include your Python code and output in the code box below.)\n",
        "\n"
      ],
      "metadata": {
        "id": "l97AlSefqKHG"
      }
    },
    {
      "cell_type": "code",
      "source": [
        "import matplotlib.pyplot as plt\n",
        "\n",
        "# Plot histogram for selling prices\n",
        "plt.figure(figsize=(8,6))\n",
        "plt.hist(df[\"selling_price\"], bins=30, edgecolor=\"black\")\n",
        "plt.xlabel(\"Selling Price\")\n",
        "plt.ylabel(\"Frequency\")\n",
        "plt.title(\"Distribution of Selling Prices\")\n",
        "plt.show()\n"
      ],
      "metadata": {
        "colab": {
          "base_uri": "https://localhost:8080/",
          "height": 564
        },
        "id": "If-G5W4BqDCo",
        "outputId": "bf4960e1-c229-466d-ef87-3884a8d7a74f"
      },
      "execution_count": null,
      "outputs": [
        {
          "output_type": "display_data",
          "data": {
            "text/plain": [
              "<Figure size 800x600 with 1 Axes>"
            ],
            "image/png": "[encoded data removed]"
          },
          "metadata": {}
        }
      ]
    },
    {
      "cell_type": "markdown",
      "source": [
        "Overall Trend:\n",
        "\n",
        "The majority of bikes are sold at lower prices, concentrated below ₹100,000.\n",
        "\n",
        "There is a right-skewed distribution, meaning a few bikes are sold at very high prices (luxury/premium bikes).\n",
        "\n",
        "Most bikes fall in the affordable to mid-range segment, while expensive ones are rare outliers."
      ],
      "metadata": {
        "id": "kUNos99qqlSf"
      }
    },
    {
      "cell_type": "markdown",
      "source": [
        "Question 4: Create a bar plot to visualize the average selling price for each seller_type and write one observation.\n",
        "(Include your Python code and output in the code box below.)\n"
      ],
      "metadata": {
        "id": "t42xPWh21KnD"
      }
    },
    {
      "cell_type": "code",
      "source": [
        "import pandas as pd\n",
        "\n",
        "# Load the dataset\n",
        "file_path = \"/content/BIKE DETAILS.csv\"\n",
        "df = pd.read_csv(file_path)\n",
        "\n",
        "# Display basic info to understand columns\n",
        "df.head(), df.columns\n"
      ],
      "metadata": {
        "colab": {
          "base_uri": "https://localhost:8080/"
        },
        "id": "nfLjFO7K1x5u",
        "outputId": "8e01586c-b92a-410a-f1da-c99a6a52814f"
      },
      "execution_count": null,
      "outputs": [
        {
          "output_type": "execute_result",
          "data": {
            "text/plain": [
              "(                                  name  selling_price  year seller_type  \\\n",
              " 0            Royal Enfield Classic 350         175000  2019  Individual   \n",
              " 1                            Honda Dio          45000  2017  Individual   \n",
              " 2  Royal Enfield Classic Gunmetal Grey         150000  2018  Individual   \n",
              " 3    Yamaha Fazer FI V 2.0 [2016-2018]          65000  2015  Individual   \n",
              " 4                Yamaha SZ [2013-2014]          20000  2011  Individual   \n",
              " \n",
              "        owner  km_driven  ex_showroom_price  \n",
              " 0  1st owner        350                NaN  \n",
              " 1  1st owner       5650                NaN  \n",
              " 2  1st owner      12000           148114.0  \n",
              " 3  1st owner      23000            89643.0  \n",
              " 4  2nd owner      21000                NaN  ,\n",
              " Index(['name', 'selling_price', 'year', 'seller_type', 'owner', 'km_driven',\n",
              "        'ex_showroom_price'],\n",
              "       dtype='object'))"
            ]
          },
          "metadata": {},
          "execution_count": 4
        }
      ]
    },
    {
      "cell_type": "code",
      "source": [
        "import matplotlib.pyplot as plt\n",
        "\n",
        "# Group by seller_type and calculate average selling_price\n",
        "avg_price_by_seller = df.groupby('seller_type')['selling_price'].mean()\n",
        "\n",
        "# Create bar plot\n",
        "plt.figure(figsize=(8, 6))\n",
        "avg_price_by_seller.plot(kind='bar')\n",
        "plt.title(\"Average Selling Price by Seller Type\")\n",
        "plt.xlabel(\"Seller Type\")\n",
        "plt.ylabel(\"Average Selling Price\")\n",
        "plt.xticks(rotation=45)\n",
        "plt.show()\n",
        "\n",
        "avg_price_by_seller\n"
      ],
      "metadata": {
        "colab": {
          "base_uri": "https://localhost:8080/",
          "height": 769
        },
        "id": "aBEdlIg42Bml",
        "outputId": "d6c7a146-cbfa-49c2-9a70-01678d0a70ce"
      },
      "execution_count": null,
      "outputs": [
        {
          "output_type": "display_data",
          "data": {
            "text/plain": [
              "<Figure size 800x600 with 1 Axes>"
            ],
            "image/png": "[encoded data removed]"
          },
          "metadata": {}
        },
        {
          "output_type": "execute_result",
          "data": {
            "text/plain": [
              "seller_type\n",
              "Dealer        46666.666667\n",
              "Individual    59711.923223\n",
              "Name: selling_price, dtype: float64"
            ],
            "text/html": [
              "<div>\n",
              "<style scoped>\n",
              "    .dataframe tbody tr th:only-of-type {\n",
              "        vertical-align: middle;\n",
              "    }\n",
              "\n",
              "    .dataframe tbody tr th {\n",
              "        vertical-align: top;\n",
              "    }\n",
              "\n",
              "    .dataframe thead th {\n",
              "        text-align: right;\n",
              "    }\n",
              "</style>\n",
              "<table border=\"1\" class=\"dataframe\">\n",
              "  <thead>\n",
              "    <tr style=\"text-align: right;\">\n",
              "      <th></th>\n",
              "      <th>selling_price</th>\n",
              "    </tr>\n",
              "    <tr>\n",
              "      <th>seller_type</th>\n",
              "      <th></th>\n",
              "    </tr>\n",
              "  </thead>\n",
              "  <tbody>\n",
              "    <tr>\n",
              "      <th>Dealer</th>\n",
              "      <td>46666.666667</td>\n",
              "    </tr>\n",
              "    <tr>\n",
              "      <th>Individual</th>\n",
              "      <td>59711.923223</td>\n",
              "    </tr>\n",
              "  </tbody>\n",
              "</table>\n",
              "</div><br><label><b>dtype:</b> float64</label>"
            ]
          },
          "metadata": {},
          "execution_count": 5
        }
      ]
    },
    {
      "cell_type": "markdown",
      "source": [
        "Output:\n",
        "\n",
        "Dealer → ₹46,667 (approx)\n",
        "\n",
        "Individual → ₹59,712 (approx)\n",
        "\n",
        "Observation:\n",
        "On average, bikes sold by Individuals have a higher selling price compared to those sold by Dealers. This may indicate that dealers often sell more budget-friendly or older bikes, while individuals list relatively higher-value models."
      ],
      "metadata": {
        "id": "WLPwgcR12XRF"
      }
    },
    {
      "cell_type": "markdown",
      "source": [
        "Question 5: Compute the average km_driven for each ownership type (1st owner, 2nd owner, etc.), and present the result as a bar plot.\n",
        "(Include your Python code and output in the code box below.)\n"
      ],
      "metadata": {
        "id": "ZwrgcXH8293J"
      }
    },
    {
      "cell_type": "markdown",
      "source": [
        "Here’s the Python code, bar plot, and the result for average kilometers driven by each ownership type:"
      ],
      "metadata": {
        "id": "FzxxS5OW3Xn8"
      }
    },
    {
      "cell_type": "code",
      "source": [
        "# Group by owner type and calculate average km_driven\n",
        "avg_km_by_owner = df.groupby('owner')['km_driven'].mean().sort_values()\n",
        "\n",
        "# Create bar plot\n",
        "plt.figure(figsize=(8, 6))\n",
        "avg_km_by_owner.plot(kind='bar', color='skyblue')\n",
        "plt.title(\"Average km_driven by Ownership Type\")\n",
        "plt.xlabel(\"Ownership Type\")\n",
        "plt.ylabel(\"Average km_driven\")\n",
        "plt.xticks(rotation=45)\n",
        "plt.show()\n",
        "\n",
        "avg_km_by_owner\n"
      ],
      "metadata": {
        "colab": {
          "base_uri": "https://localhost:8080/",
          "height": 836
        },
        "id": "WEByC1W82amn",
        "outputId": "c7023720-e27a-4568-89a3-a3efc1831542"
      },
      "execution_count": null,
      "outputs": [
        {
          "output_type": "display_data",
          "data": {
            "text/plain": [
              "<Figure size 800x600 with 1 Axes>"
            ],
            "image/png": "[encoded data removed]"
          },
          "metadata": {}
        },
        {
          "output_type": "execute_result",
          "data": {
            "text/plain": [
              "owner\n",
              "1st owner     32816.583333\n",
              "3rd owner     33292.181818\n",
              "2nd owner     39288.991870\n",
              "4th owner    311500.000000\n",
              "Name: km_driven, dtype: float64"
            ],
            "text/html": [
              "<div>\n",
              "<style scoped>\n",
              "    .dataframe tbody tr th:only-of-type {\n",
              "        vertical-align: middle;\n",
              "    }\n",
              "\n",
              "    .dataframe tbody tr th {\n",
              "        vertical-align: top;\n",
              "    }\n",
              "\n",
              "    .dataframe thead th {\n",
              "        text-align: right;\n",
              "    }\n",
              "</style>\n",
              "<table border=\"1\" class=\"dataframe\">\n",
              "  <thead>\n",
              "    <tr style=\"text-align: right;\">\n",
              "      <th></th>\n",
              "      <th>km_driven</th>\n",
              "    </tr>\n",
              "    <tr>\n",
              "      <th>owner</th>\n",
              "      <th></th>\n",
              "    </tr>\n",
              "  </thead>\n",
              "  <tbody>\n",
              "    <tr>\n",
              "      <th>1st owner</th>\n",
              "      <td>32816.583333</td>\n",
              "    </tr>\n",
              "    <tr>\n",
              "      <th>3rd owner</th>\n",
              "      <td>33292.181818</td>\n",
              "    </tr>\n",
              "    <tr>\n",
              "      <th>2nd owner</th>\n",
              "      <td>39288.991870</td>\n",
              "    </tr>\n",
              "    <tr>\n",
              "      <th>4th owner</th>\n",
              "      <td>311500.000000</td>\n",
              "    </tr>\n",
              "  </tbody>\n",
              "</table>\n",
              "</div><br><label><b>dtype:</b> float64</label>"
            ]
          },
          "metadata": {},
          "execution_count": 7
        }
      ]
    },
    {
      "cell_type": "markdown",
      "source": [
        "Output (Average km_driven by ownership type):\n",
        "\n",
        "1st owner → ~32,817 km\n",
        "\n",
        "3rd owner → ~33,292 km\n",
        "\n",
        "2nd owner → ~39,289 km\n",
        "\n",
        "4th owner → ~311,500 km\n",
        "\n",
        "Observation:\n",
        "Most ownership categories (1st, 2nd, 3rd owners) show similar average usage between 32,000 – 40,000 km, but 4th owner bikes have an unusually high average of ~311,500 km, likely due to one or more extreme outliers."
      ],
      "metadata": {
        "id": "b1gkBV7t3ieS"
      }
    },
    {
      "cell_type": "markdown",
      "source": [
        "Question 6: Use the IQR method to detect and remove outliers from the km_driven\n",
        "column. Show before-and-after summary statistics.\n",
        "(Include your Python code and output in the code box below.)\n",
        "\n"
      ],
      "metadata": {
        "id": "6Nzgfdaqcrmt"
      }
    },
    {
      "cell_type": "code",
      "source": [
        "import pandas as pd\n",
        "\n",
        "# Load the dataset\n",
        "file_path = \"/content/BIKE DETAILS.csv\"\n",
        "df = pd.read_csv(file_path)\n",
        "\n",
        "# Display summary statistics before removing outliers\n",
        "before_summary = df['km_driven'].describe()\n",
        "\n",
        "# Calculate IQR\n",
        "Q1 = df['km_driven'].quantile(0.25)\n",
        "Q3 = df['km_driven'].quantile(0.75)\n",
        "IQR = Q3 - Q1\n",
        "\n",
        "# Define bounds for outliers\n",
        "lower_bound = Q1 - 1.5 * IQR\n",
        "upper_bound = Q3 + 1.5 * IQR\n",
        "\n",
        "# Remove outliers\n",
        "df_no_outliers = df[(df['km_driven'] >= lower_bound) & (df['km_driven'] <= upper_bound)]\n",
        "\n",
        "# Display summary statistics after removing outliers\n",
        "after_summary = df_no_outliers['km_driven'].describe()\n",
        "\n",
        "before_summary, after_summary\n"
      ],
      "metadata": {
        "id": "L-A9H56U3Lf1",
        "colab": {
          "base_uri": "https://localhost:8080/"
        },
        "outputId": "c69a0f75-fd25-435e-d460-64235be56287"
      },
      "execution_count": null,
      "outputs": [
        {
          "output_type": "execute_result",
          "data": {
            "text/plain": [
              "(count      1061.000000\n",
              " mean      34359.833176\n",
              " std       51623.152702\n",
              " min         350.000000\n",
              " 25%       13500.000000\n",
              " 50%       25000.000000\n",
              " 75%       43000.000000\n",
              " max      880000.000000\n",
              " Name: km_driven, dtype: float64,\n",
              " count     1022.000000\n",
              " mean     28203.415851\n",
              " std      19552.083583\n",
              " min        350.000000\n",
              " 25%      13000.000000\n",
              " 50%      24000.000000\n",
              " 75%      40000.000000\n",
              " max      86000.000000\n",
              " Name: km_driven, dtype: float64)"
            ]
          },
          "metadata": {},
          "execution_count": 3
        }
      ]
    },
    {
      "cell_type": "markdown",
      "source": [
        "Here’s the result of applying the IQR method to detect and remove outliers from the km_driven column:\n",
        "\n",
        "   - Before Removing Outliers\n",
        "\n",
        "Count: 1061\n",
        "\n",
        "Mean: 34,359.83\n",
        "\n",
        "Std Dev: 51,623.15\n",
        "\n",
        "Min: 350\n",
        "\n",
        "25%: 13,500\n",
        "\n",
        "50% (Median): 25,000\n",
        "\n",
        "75%: 43,000\n",
        "\n",
        "Max: 880,000\n",
        "\n",
        "   - After Removing Outliers\n",
        "\n",
        "Count: 1022\n",
        "\n",
        "Mean: 28,203.42\n",
        "\n",
        "Std Dev: 19,552.08\n",
        "\n",
        "Min: 350\n",
        "\n",
        "25%: 13,000\n",
        "\n",
        "50% (Median): 24,000\n",
        "\n",
        "75%: 40,000\n",
        "\n",
        "Max: 86,000\n",
        "\n",
        "Outliers above 86,000 km were removed, reducing extreme values and making the distribution more realistic.\n",
        "\n"
      ],
      "metadata": {
        "id": "7fF2ROm0dTdU"
      }
    },
    {
      "cell_type": "markdown",
      "source": [
        "Question 7: Create a scatter plot of year vs. selling_price to explore the relationship between a bike's age and its price.\n",
        "(Include your Python code and output in the code box below.)\n",
        "\n"
      ],
      "metadata": {
        "id": "ErA8E11gdmBu"
      }
    },
    {
      "cell_type": "code",
      "source": [
        "import matplotlib.pyplot as plt\n",
        "\n",
        "# Scatter plot of year vs selling_price\n",
        "plt.figure(figsize=(10, 6))\n",
        "plt.scatter(df['year'], df['selling_price'], alpha=0.6)\n",
        "plt.title('Scatter Plot of Year vs. Selling Price')\n",
        "plt.xlabel('Year of Manufacture')\n",
        "plt.ylabel('Selling Price')\n",
        "plt.grid(True)\n",
        "plt.show()\n"
      ],
      "metadata": {
        "colab": {
          "base_uri": "https://localhost:8080/",
          "height": 564
        },
        "id": "04Q8sMkXcwOm",
        "outputId": "0adc0a66-6741-405b-b5b6-a81f7a4c983e"
      },
      "execution_count": null,
      "outputs": [
        {
          "output_type": "display_data",
          "data": {
            "text/plain": [
              "<Figure size 1000x600 with 1 Axes>"
            ],
            "image/png": "[encoded data removed]"
          },
          "metadata": {}
        }
      ]
    },
    {
      "cell_type": "markdown",
      "source": [
        "Here’s the scatter plot of year vs. selling_price.\n",
        "\n",
        "    - From the visualization, you can notice:\n",
        "\n",
        "Newer bikes (recent years) generally have higher selling prices.\n",
        "\n",
        "Older bikes show a wide spread but mostly cluster at lower prices."
      ],
      "metadata": {
        "id": "SgWVB7c9d0Ad"
      }
    },
    {
      "cell_type": "markdown",
      "source": [
        "Question 8: Convert the seller_type column into numeric format using one-hot encoding. Display the first 5 rows of the resulting DataFrame.\n",
        "(Include your Python code and output in the code box below.)\n",
        "\n"
      ],
      "metadata": {
        "id": "7Bv7fqwAd-30"
      }
    },
    {
      "cell_type": "code",
      "source": [
        "# One-hot encode the seller_type column\n",
        "df_encoded = pd.get_dummies(df, columns=['seller_type'], drop_first=False)\n",
        "\n",
        "# Display the first 5 rows of the resulting DataFrame\n",
        "df_encoded.head()\n"
      ],
      "metadata": {
        "colab": {
          "base_uri": "https://localhost:8080/",
          "height": 206
        },
        "id": "EvM3gvBOeHuC",
        "outputId": "ee524d3b-932f-4e86-8140-1c2a7a2c2c93"
      },
      "execution_count": null,
      "outputs": [
        {
          "output_type": "execute_result",
          "data": {
            "text/plain": [
              "                                  name  selling_price  year      owner  \\\n",
              "0            Royal Enfield Classic 350         175000  2019  1st owner   \n",
              "1                            Honda Dio          45000  2017  1st owner   \n",
              "2  Royal Enfield Classic Gunmetal Grey         150000  2018  1st owner   \n",
              "3    Yamaha Fazer FI V 2.0 [2016-2018]          65000  2015  1st owner   \n",
              "4                Yamaha SZ [2013-2014]          20000  2011  2nd owner   \n",
              "\n",
              "   km_driven  ex_showroom_price  seller_type_Dealer  seller_type_Individual  \n",
              "0        350                NaN               False                    True  \n",
              "1       5650                NaN               False                    True  \n",
              "2      12000           148114.0               False                    True  \n",
              "3      23000            89643.0               False                    True  \n",
              "4      21000                NaN               False                    True  "
            ],
            "text/html": [
              "\n",
              "  <div id=\"df-b7be4482-278d-4260-b9dd-e0c5ddf3b768\" class=\"colab-df-container\">\n",
              "    <div>\n",
              "<style scoped>\n",
              "    .dataframe tbody tr th:only-of-type {\n",
              "        vertical-align: middle;\n",
              "    }\n",
              "\n",
              "    .dataframe tbody tr th {\n",
              "        vertical-align: top;\n",
              "    }\n",
              "\n",
              "    .dataframe thead th {\n",
              "        text-align: right;\n",
              "    }\n",
              "</style>\n",
              "<table border=\"1\" class=\"dataframe\">\n",
              "  <thead>\n",
              "    <tr style=\"text-align: right;\">\n",
              "      <th></th>\n",
              "      <th>name</th>\n",
              "      <th>selling_price</th>\n",
              "      <th>year</th>\n",
              "      <th>owner</th>\n",
              "      <th>km_driven</th>\n",
              "      <th>ex_showroom_price</th>\n",
              "      <th>seller_type_Dealer</th>\n",
              "      <th>seller_type_Individual</th>\n",
              "    </tr>\n",
              "  </thead>\n",
              "  <tbody>\n",
              "    <tr>\n",
              "      <th>0</th>\n",
              "      <td>Royal Enfield Classic 350</td>\n",
              "      <td>175000</td>\n",
              "      <td>2019</td>\n",
              "      <td>1st owner</td>\n",
              "      <td>350</td>\n",
              "      <td>NaN</td>\n",
              "      <td>False</td>\n",
              "      <td>True</td>\n",
              "    </tr>\n",
              "    <tr>\n",
              "      <th>1</th>\n",
              "      <td>Honda Dio</td>\n",
              "      <td>45000</td>\n",
              "      <td>2017</td>\n",
              "      <td>1st owner</td>\n",
              "      <td>5650</td>\n",
              "      <td>NaN</td>\n",
              "      <td>False</td>\n",
              "      <td>True</td>\n",
              "    </tr>\n",
              "    <tr>\n",
              "      <th>2</th>\n",
              "      <td>Royal Enfield Classic Gunmetal Grey</td>\n",
              "      <td>150000</td>\n",
              "      <td>2018</td>\n",
              "      <td>1st owner</td>\n",
              "      <td>12000</td>\n",
              "      <td>148114.0</td>\n",
              "      <td>False</td>\n",
              "      <td>True</td>\n",
              "    </tr>\n",
              "    <tr>\n",
              "      <th>3</th>\n",
              "      <td>Yamaha Fazer FI V 2.0 [2016-2018]</td>\n",
              "      <td>65000</td>\n",
              "      <td>2015</td>\n",
              "      <td>1st owner</td>\n",
              "      <td>23000</td>\n",
              "      <td>89643.0</td>\n",
              "      <td>False</td>\n",
              "      <td>True</td>\n",
              "    </tr>\n",
              "    <tr>\n",
              "      <th>4</th>\n",
              "      <td>Yamaha SZ [2013-2014]</td>\n",
              "      <td>20000</td>\n",
              "      <td>2011</td>\n",
              "      <td>2nd owner</td>\n",
              "      <td>21000</td>\n",
              "      <td>NaN</td>\n",
              "      <td>False</td>\n",
              "      <td>True</td>\n",
              "    </tr>\n",
              "  </tbody>\n",
              "</table>\n",
              "</div>\n",
              "    <div class=\"colab-df-buttons\">\n",
              "\n",
              "  <div class=\"colab-df-container\">\n",
              "    <button class=\"colab-df-convert\" onclick=\"convertToInteractive('df-b7be4482-278d-4260-b9dd-e0c5ddf3b768')\"\n",
              "            title=\"Convert this dataframe to an interactive table.\"\n",
              "            style=\"display:none;\">\n",
              "\n",
              "  <svg xmlns=\"http://www.w3.org/2000/svg\" height=\"24px\" viewBox=\"0 -960 960 960\">\n",
              "    <path d=\"M120-120v-720h720v720H120Zm60-500h600v-160H180v160Zm220 220h160v-160H400v160Zm0 220h160v-160H400v160ZM180-400h160v-160H180v160Zm440 0h160v-160H620v160ZM180-180h160v-160H180v160Zm440 0h160v-160H620v160Z\"/>\n",
              "  </svg>\n",
              "    </button>\n",
              "\n",
              "  <style>\n",
              "    .colab-df-container {\n",
              "      display:flex;\n",
              "      gap: 12px;\n",
              "    }\n",
              "\n",
              "    .colab-df-convert {\n",
              "      background-color: #E8F0FE;\n",
              "      border: none;\n",
              "      border-radius: 50%;\n",
              "      cursor: pointer;\n",
              "      display: none;\n",
              "      fill: #1967D2;\n",
              "      height: 32px;\n",
              "      padding: 0 0 0 0;\n",
              "      width: 32px;\n",
              "    }\n",
              "\n",
              "    .colab-df-convert:hover {\n",
              "      background-color: #E2EBFA;\n",
              "      box-shadow: 0px 1px 2px rgba(60, 64, 67, 0.3), 0px 1px 3px 1px rgba(60, 64, 67, 0.15);\n",
              "      fill: #174EA6;\n",
              "    }\n",
              "\n",
              "    .colab-df-buttons div {\n",
              "      margin-bottom: 4px;\n",
              "    }\n",
              "\n",
              "    [theme=dark] .colab-df-convert {\n",
              "      background-color: #3B4455;\n",
              "      fill: #D2E3FC;\n",
              "    }\n",
              "\n",
              "    [theme=dark] .colab-df-convert:hover {\n",
              "      background-color: #434B5C;\n",
              "      box-shadow: 0px 1px 3px 1px rgba(0, 0, 0, 0.15);\n",
              "      filter: drop-shadow(0px 1px 2px rgba(0, 0, 0, 0.3));\n",
              "      fill: #FFFFFF;\n",
              "    }\n",
              "  </style>\n",
              "\n",
              "    <script>\n",
              "      const buttonEl =\n",
              "        document.querySelector('#df-b7be4482-278d-4260-b9dd-e0c5ddf3b768 button.colab-df-convert');\n",
              "      buttonEl.style.display =\n",
              "        google.colab.kernel.accessAllowed ? 'block' : 'none';\n",
              "\n",
              "      async function convertToInteractive(key) {\n",
              "        const element = document.querySelector('#df-b7be4482-278d-4260-b9dd-e0c5ddf3b768');\n",
              "        const dataTable =\n",
              "          await google.colab.kernel.invokeFunction('convertToInteractive',\n",
              "                                                    [key], {});\n",
              "        if (!dataTable) return;\n",
              "\n",
              "        const docLinkHtml = 'Like what you see? Visit the ' +\n",
              "          '<a target=\"_blank\" href=https://colab.research.google.com/notebooks/data_table.ipynb>data table notebook</a>'\n",
              "          + ' to learn more about interactive tables.';\n",
              "        element.innerHTML = '';\n",
              "        dataTable['output_type'] = 'display_data';\n",
              "        await google.colab.output.renderOutput(dataTable, element);\n",
              "        const docLink = document.createElement('div');\n",
              "        docLink.innerHTML = docLinkHtml;\n",
              "        element.appendChild(docLink);\n",
              "      }\n",
              "    </script>\n",
              "  </div>\n",
              "\n",
              "\n",
              "    <div id=\"df-95e32f95-a5d2-4d45-b86d-bed6d5d0782b\">\n",
              "      <button class=\"colab-df-quickchart\" onclick=\"quickchart('df-95e32f95-a5d2-4d45-b86d-bed6d5d0782b')\"\n",
              "                title=\"Suggest charts\"\n",
              "                style=\"display:none;\">\n",
              "\n",
              "<svg xmlns=\"http://www.w3.org/2000/svg\" height=\"24px\"viewBox=\"0 0 24 24\"\n",
              "     width=\"24px\">\n",
              "    <g>\n",
              "        <path d=\"M19 3H5c-1.1 0-2 .9-2 2v14c0 1.1.9 2 2 2h14c1.1 0 2-.9 2-2V5c0-1.1-.9-2-2-2zM9 17H7v-7h2v7zm4 0h-2V7h2v10zm4 0h-2v-4h2v4z\"/>\n",
              "    </g>\n",
              "</svg>\n",
              "      </button>\n",
              "\n",
              "<style>\n",
              "  .colab-df-quickchart {\n",
              "      --bg-color: #E8F0FE;\n",
              "      --fill-color: #1967D2;\n",
              "      --hover-bg-color: #E2EBFA;\n",
              "      --hover-fill-color: #174EA6;\n",
              "      --disabled-fill-color: #AAA;\n",
              "      --disabled-bg-color: #DDD;\n",
              "  }\n",
              "\n",
              "  [theme=dark] .colab-df-quickchart {\n",
              "      --bg-color: #3B4455;\n",
              "      --fill-color: #D2E3FC;\n",
              "      --hover-bg-color: #434B5C;\n",
              "      --hover-fill-color: #FFFFFF;\n",
              "      --disabled-bg-color: #3B4455;\n",
              "      --disabled-fill-color: #666;\n",
              "  }\n",
              "\n",
              "  .colab-df-quickchart {\n",
              "    background-color: var(--bg-color);\n",
              "    border: none;\n",
              "    border-radius: 50%;\n",
              "    cursor: pointer;\n",
              "    display: none;\n",
              "    fill: var(--fill-color);\n",
              "    height: 32px;\n",
              "    padding: 0;\n",
              "    width: 32px;\n",
              "  }\n",
              "\n",
              "  .colab-df-quickchart:hover {\n",
              "    background-color: var(--hover-bg-color);\n",
              "    box-shadow: 0 1px 2px rgba(60, 64, 67, 0.3), 0 1px 3px 1px rgba(60, 64, 67, 0.15);\n",
              "    fill: var(--button-hover-fill-color);\n",
              "  }\n",
              "\n",
              "  .colab-df-quickchart-complete:disabled,\n",
              "  .colab-df-quickchart-complete:disabled:hover {\n",
              "    background-color: var(--disabled-bg-color);\n",
              "    fill: var(--disabled-fill-color);\n",
              "    box-shadow: none;\n",
              "  }\n",
              "\n",
              "  .colab-df-spinner {\n",
              "    border: 2px solid var(--fill-color);\n",
              "    border-color: transparent;\n",
              "    border-bottom-color: var(--fill-color);\n",
              "    animation:\n",
              "      spin 1s steps(1) infinite;\n",
              "  }\n",
              "\n",
              "  @keyframes spin {\n",
              "    0% {\n",
              "      border-color: transparent;\n",
              "      border-bottom-color: var(--fill-color);\n",
              "      border-left-color: var(--fill-color);\n",
              "    }\n",
              "    20% {\n",
              "      border-color: transparent;\n",
              "      border-left-color: var(--fill-color);\n",
              "      border-top-color: var(--fill-color);\n",
              "    }\n",
              "    30% {\n",
              "      border-color: transparent;\n",
              "      border-left-color: var(--fill-color);\n",
              "      border-top-color: var(--fill-color);\n",
              "      border-right-color: var(--fill-color);\n",
              "    }\n",
              "    40% {\n",
              "      border-color: transparent;\n",
              "      border-right-color: var(--fill-color);\n",
              "      border-top-color: var(--fill-color);\n",
              "    }\n",
              "    60% {\n",
              "      border-color: transparent;\n",
              "      border-right-color: var(--fill-color);\n",
              "    }\n",
              "    80% {\n",
              "      border-color: transparent;\n",
              "      border-right-color: var(--fill-color);\n",
              "      border-bottom-color: var(--fill-color);\n",
              "    }\n",
              "    90% {\n",
              "      border-color: transparent;\n",
              "      border-bottom-color: var(--fill-color);\n",
              "    }\n",
              "  }\n",
              "</style>\n",
              "\n",
              "      <script>\n",
              "        async function quickchart(key) {\n",
              "          const quickchartButtonEl =\n",
              "            document.querySelector('#' + key + ' button');\n",
              "          quickchartButtonEl.disabled = true;  // To prevent multiple clicks.\n",
              "          quickchartButtonEl.classList.add('colab-df-spinner');\n",
              "          try {\n",
              "            const charts = await google.colab.kernel.invokeFunction(\n",
              "                'suggestCharts', [key], {});\n",
              "          } catch (error) {\n",
              "            console.error('Error during call to suggestCharts:', error);\n",
              "          }\n",
              "          quickchartButtonEl.classList.remove('colab-df-spinner');\n",
              "          quickchartButtonEl.classList.add('colab-df-quickchart-complete');\n",
              "        }\n",
              "        (() => {\n",
              "          let quickchartButtonEl =\n",
              "            document.querySelector('#df-95e32f95-a5d2-4d45-b86d-bed6d5d0782b button');\n",
              "          quickchartButtonEl.style.display =\n",
              "            google.colab.kernel.accessAllowed ? 'block' : 'none';\n",
              "        })();\n",
              "      </script>\n",
              "    </div>\n",
              "\n",
              "    </div>\n",
              "  </div>\n"
            ],
            "application/vnd.google.colaboratory.intrinsic+json": {
              "type": "dataframe",
              "variable_name": "df_encoded",
              "summary": "{\n  \"name\": \"df_encoded\",\n  \"rows\": 1061,\n  \"fields\": [\n    {\n      \"column\": \"name\",\n      \"properties\": {\n        \"dtype\": \"category\",\n        \"num_unique_values\": 279,\n        \"samples\": [\n          \"Hero Xtreme Sports\",\n          \"Hero Honda Passion\",\n          \"TVS Streak\"\n        ],\n        \"semantic_type\": \"\",\n        \"description\": \"\"\n      }\n    },\n    {\n      \"column\": \"selling_price\",\n      \"properties\": {\n        \"dtype\": \"number\",\n        \"std\": 56304,\n        \"min\": 5000,\n        \"max\": 760000,\n        \"num_unique_values\": 130,\n        \"samples\": [\n          72000,\n          160000,\n          26000\n        ],\n        \"semantic_type\": \"\",\n        \"description\": \"\"\n      }\n    },\n    {\n      \"column\": \"year\",\n      \"properties\": {\n        \"dtype\": \"number\",\n        \"std\": 4,\n        \"min\": 1988,\n        \"max\": 2020,\n        \"num_unique_values\": 28,\n        \"samples\": [\n          2012,\n          2003,\n          2020\n        ],\n        \"semantic_type\": \"\",\n        \"description\": \"\"\n      }\n    },\n    {\n      \"column\": \"owner\",\n      \"properties\": {\n        \"dtype\": \"category\",\n        \"num_unique_values\": 4,\n        \"samples\": [\n          \"2nd owner\",\n          \"4th owner\",\n          \"1st owner\"\n        ],\n        \"semantic_type\": \"\",\n        \"description\": \"\"\n      }\n    },\n    {\n      \"column\": \"km_driven\",\n      \"properties\": {\n        \"dtype\": \"number\",\n        \"std\": 51623,\n        \"min\": 350,\n        \"max\": 880000,\n        \"num_unique_values\": 304,\n        \"samples\": [\n          19500,\n          11500,\n          32800\n        ],\n        \"semantic_type\": \"\",\n        \"description\": \"\"\n      }\n    },\n    {\n      \"column\": \"ex_showroom_price\",\n      \"properties\": {\n        \"dtype\": \"number\",\n        \"std\": 77496.58718945317,\n        \"min\": 30490.0,\n        \"max\": 1278000.0,\n        \"num_unique_values\": 230,\n        \"samples\": [\n          54000.0,\n          64589.0,\n          58314.0\n        ],\n        \"semantic_type\": \"\",\n        \"description\": \"\"\n      }\n    },\n    {\n      \"column\": \"seller_type_Dealer\",\n      \"properties\": {\n        \"dtype\": \"boolean\",\n        \"num_unique_values\": 2,\n        \"samples\": [\n          true,\n          false\n        ],\n        \"semantic_type\": \"\",\n        \"description\": \"\"\n      }\n    },\n    {\n      \"column\": \"seller_type_Individual\",\n      \"properties\": {\n        \"dtype\": \"boolean\",\n        \"num_unique_values\": 2,\n        \"samples\": [\n          false,\n          true\n        ],\n        \"semantic_type\": \"\",\n        \"description\": \"\"\n      }\n    }\n  ]\n}"
            }
          },
          "metadata": {},
          "execution_count": 7
        }
      ]
    },
    {
      "cell_type": "markdown",
      "source": [
        "Now the seller_type column is represented numerically as two binary columns (seller_type_Dealer, seller_type_Individual)."
      ],
      "metadata": {
        "id": "UgpFiOY5ferS"
      }
    },
    {
      "cell_type": "markdown",
      "source": [
        "Question 9: Generate a heatmap of the correlation matrix for all numeric columns. What correlations stand out the most?\n",
        "(Include your Python code and output in the code box below.)\n"
      ],
      "metadata": {
        "id": "JESazUnRff5h"
      }
    },
    {
      "cell_type": "code",
      "source": [
        "import pandas as pd\n",
        "\n",
        "# Load the dataset\n",
        "file_path = \"/content/BIKE DETAILS.csv\"\n",
        "df = pd.read_csv(file_path)\n",
        "\n",
        "# Display first few rows and check data types to identify numeric columns\n",
        "df.head(), df.dtypes\n"
      ],
      "metadata": {
        "id": "d6wrRDx5fp4D",
        "colab": {
          "base_uri": "https://localhost:8080/"
        },
        "outputId": "8a17b516-19da-41c8-e27a-f25e69f80c03"
      },
      "execution_count": 1,
      "outputs": [
        {
          "output_type": "execute_result",
          "data": {
            "text/plain": [
              "(                                  name  selling_price  year seller_type  \\\n",
              " 0            Royal Enfield Classic 350         175000  2019  Individual   \n",
              " 1                            Honda Dio          45000  2017  Individual   \n",
              " 2  Royal Enfield Classic Gunmetal Grey         150000  2018  Individual   \n",
              " 3    Yamaha Fazer FI V 2.0 [2016-2018]          65000  2015  Individual   \n",
              " 4                Yamaha SZ [2013-2014]          20000  2011  Individual   \n",
              " \n",
              "        owner  km_driven  ex_showroom_price  \n",
              " 0  1st owner        350                NaN  \n",
              " 1  1st owner       5650                NaN  \n",
              " 2  1st owner      12000           148114.0  \n",
              " 3  1st owner      23000            89643.0  \n",
              " 4  2nd owner      21000                NaN  ,\n",
              " name                  object\n",
              " selling_price          int64\n",
              " year                   int64\n",
              " seller_type           object\n",
              " owner                 object\n",
              " km_driven              int64\n",
              " ex_showroom_price    float64\n",
              " dtype: object)"
            ]
          },
          "metadata": {},
          "execution_count": 1
        }
      ]
    },
    {
      "cell_type": "code",
      "source": [
        "import matplotlib.pyplot as plt\n",
        "import seaborn as sns\n",
        "\n",
        "# Compute correlation matrix for numeric columns\n",
        "corr_matrix = df.corr(numeric_only=True)\n",
        "\n",
        "# Plot heatmap\n",
        "plt.figure(figsize=(8,6))\n",
        "sns.heatmap(corr_matrix, annot=True, cmap=\"coolwarm\", fmt=\".2f\", linewidths=0.5)\n",
        "plt.title(\"Correlation Heatmap of Numeric Columns\", fontsize=14)\n",
        "plt.show()\n",
        "\n",
        "corr_matrix\n"
      ],
      "metadata": {
        "colab": {
          "base_uri": "https://localhost:8080/",
          "height": 703
        },
        "id": "tjBOrCe2Ha7T",
        "outputId": "647f4531-d787-44da-90d6-4f86620ea19b"
      },
      "execution_count": 2,
      "outputs": [
        {
          "output_type": "display_data",
          "data": {
            "text/plain": [
              "<Figure size 800x600 with 2 Axes>"
            ],
            "image/png": "[encoded data removed]"
          },
          "metadata": {}
        },
        {
          "output_type": "execute_result",
          "data": {
            "text/plain": [
              "                   selling_price      year  km_driven  ex_showroom_price\n",
              "selling_price           1.000000  0.402188  -0.212937           0.918583\n",
              "year                    0.402188  1.000000  -0.288675           0.126378\n",
              "km_driven              -0.212937 -0.288675   1.000000          -0.122011\n",
              "ex_showroom_price       0.918583  0.126378  -0.122011           1.000000"
            ],
            "text/html": [
              "\n",
              "  <div id=\"df-f98d26f8-c14c-4c90-8908-be938966e559\" class=\"colab-df-container\">\n",
              "    <div>\n",
              "<style scoped>\n",
              "    .dataframe tbody tr th:only-of-type {\n",
              "        vertical-align: middle;\n",
              "    }\n",
              "\n",
              "    .dataframe tbody tr th {\n",
              "        vertical-align: top;\n",
              "    }\n",
              "\n",
              "    .dataframe thead th {\n",
              "        text-align: right;\n",
              "    }\n",
              "</style>\n",
              "<table border=\"1\" class=\"dataframe\">\n",
              "  <thead>\n",
              "    <tr style=\"text-align: right;\">\n",
              "      <th></th>\n",
              "      <th>selling_price</th>\n",
              "      <th>year</th>\n",
              "      <th>km_driven</th>\n",
              "      <th>ex_showroom_price</th>\n",
              "    </tr>\n",
              "  </thead>\n",
              "  <tbody>\n",
              "    <tr>\n",
              "      <th>selling_price</th>\n",
              "      <td>1.000000</td>\n",
              "      <td>0.402188</td>\n",
              "      <td>-0.212937</td>\n",
              "      <td>0.918583</td>\n",
              "    </tr>\n",
              "    <tr>\n",
              "      <th>year</th>\n",
              "      <td>0.402188</td>\n",
              "      <td>1.000000</td>\n",
              "      <td>-0.288675</td>\n",
              "      <td>0.126378</td>\n",
              "    </tr>\n",
              "    <tr>\n",
              "      <th>km_driven</th>\n",
              "      <td>-0.212937</td>\n",
              "      <td>-0.288675</td>\n",
              "      <td>1.000000</td>\n",
              "      <td>-0.122011</td>\n",
              "    </tr>\n",
              "    <tr>\n",
              "      <th>ex_showroom_price</th>\n",
              "      <td>0.918583</td>\n",
              "      <td>0.126378</td>\n",
              "      <td>-0.122011</td>\n",
              "      <td>1.000000</td>\n",
              "    </tr>\n",
              "  </tbody>\n",
              "</table>\n",
              "</div>\n",
              "    <div class=\"colab-df-buttons\">\n",
              "\n",
              "  <div class=\"colab-df-container\">\n",
              "    <button class=\"colab-df-convert\" onclick=\"convertToInteractive('df-f98d26f8-c14c-4c90-8908-be938966e559')\"\n",
              "            title=\"Convert this dataframe to an interactive table.\"\n",
              "            style=\"display:none;\">\n",
              "\n",
              "  <svg xmlns=\"http://www.w3.org/2000/svg\" height=\"24px\" viewBox=\"0 -960 960 960\">\n",
              "    <path d=\"M120-120v-720h720v720H120Zm60-500h600v-160H180v160Zm220 220h160v-160H400v160Zm0 220h160v-160H400v160ZM180-400h160v-160H180v160Zm440 0h160v-160H620v160ZM180-180h160v-160H180v160Zm440 0h160v-160H620v160Z\"/>\n",
              "  </svg>\n",
              "    </button>\n",
              "\n",
              "  <style>\n",
              "    .colab-df-container {\n",
              "      display:flex;\n",
              "      gap: 12px;\n",
              "    }\n",
              "\n",
              "    .colab-df-convert {\n",
              "      background-color: #E8F0FE;\n",
              "      border: none;\n",
              "      border-radius: 50%;\n",
              "      cursor: pointer;\n",
              "      display: none;\n",
              "      fill: #1967D2;\n",
              "      height: 32px;\n",
              "      padding: 0 0 0 0;\n",
              "      width: 32px;\n",
              "    }\n",
              "\n",
              "    .colab-df-convert:hover {\n",
              "      background-color: #E2EBFA;\n",
              "      box-shadow: 0px 1px 2px rgba(60, 64, 67, 0.3), 0px 1px 3px 1px rgba(60, 64, 67, 0.15);\n",
              "      fill: #174EA6;\n",
              "    }\n",
              "\n",
              "    .colab-df-buttons div {\n",
              "      margin-bottom: 4px;\n",
              "    }\n",
              "\n",
              "    [theme=dark] .colab-df-convert {\n",
              "      background-color: #3B4455;\n",
              "      fill: #D2E3FC;\n",
              "    }\n",
              "\n",
              "    [theme=dark] .colab-df-convert:hover {\n",
              "      background-color: #434B5C;\n",
              "      box-shadow: 0px 1px 3px 1px rgba(0, 0, 0, 0.15);\n",
              "      filter: drop-shadow(0px 1px 2px rgba(0, 0, 0, 0.3));\n",
              "      fill: #FFFFFF;\n",
              "    }\n",
              "  </style>\n",
              "\n",
              "    <script>\n",
              "      const buttonEl =\n",
              "        document.querySelector('#df-f98d26f8-c14c-4c90-8908-be938966e559 button.colab-df-convert');\n",
              "      buttonEl.style.display =\n",
              "        google.colab.kernel.accessAllowed ? 'block' : 'none';\n",
              "\n",
              "      async function convertToInteractive(key) {\n",
              "        const element = document.querySelector('#df-f98d26f8-c14c-4c90-8908-be938966e559');\n",
              "        const dataTable =\n",
              "          await google.colab.kernel.invokeFunction('convertToInteractive',\n",
              "                                                    [key], {});\n",
              "        if (!dataTable) return;\n",
              "\n",
              "        const docLinkHtml = 'Like what you see? Visit the ' +\n",
              "          '<a target=\"_blank\" href=https://colab.research.google.com/notebooks/data_table.ipynb>data table notebook</a>'\n",
              "          + ' to learn more about interactive tables.';\n",
              "        element.innerHTML = '';\n",
              "        dataTable['output_type'] = 'display_data';\n",
              "        await google.colab.output.renderOutput(dataTable, element);\n",
              "        const docLink = document.createElement('div');\n",
              "        docLink.innerHTML = docLinkHtml;\n",
              "        element.appendChild(docLink);\n",
              "      }\n",
              "    </script>\n",
              "  </div>\n",
              "\n",
              "\n",
              "    <div id=\"df-9f5e5cd0-5550-40b7-b5b7-eedc127be745\">\n",
              "      <button class=\"colab-df-quickchart\" onclick=\"quickchart('df-9f5e5cd0-5550-40b7-b5b7-eedc127be745')\"\n",
              "                title=\"Suggest charts\"\n",
              "                style=\"display:none;\">\n",
              "\n",
              "<svg xmlns=\"http://www.w3.org/2000/svg\" height=\"24px\"viewBox=\"0 0 24 24\"\n",
              "     width=\"24px\">\n",
              "    <g>\n",
              "        <path d=\"M19 3H5c-1.1 0-2 .9-2 2v14c0 1.1.9 2 2 2h14c1.1 0 2-.9 2-2V5c0-1.1-.9-2-2-2zM9 17H7v-7h2v7zm4 0h-2V7h2v10zm4 0h-2v-4h2v4z\"/>\n",
              "    </g>\n",
              "</svg>\n",
              "      </button>\n",
              "\n",
              "<style>\n",
              "  .colab-df-quickchart {\n",
              "      --bg-color: #E8F0FE;\n",
              "      --fill-color: #1967D2;\n",
              "      --hover-bg-color: #E2EBFA;\n",
              "      --hover-fill-color: #174EA6;\n",
              "      --disabled-fill-color: #AAA;\n",
              "      --disabled-bg-color: #DDD;\n",
              "  }\n",
              "\n",
              "  [theme=dark] .colab-df-quickchart {\n",
              "      --bg-color: #3B4455;\n",
              "      --fill-color: #D2E3FC;\n",
              "      --hover-bg-color: #434B5C;\n",
              "      --hover-fill-color: #FFFFFF;\n",
              "      --disabled-bg-color: #3B4455;\n",
              "      --disabled-fill-color: #666;\n",
              "  }\n",
              "\n",
              "  .colab-df-quickchart {\n",
              "    background-color: var(--bg-color);\n",
              "    border: none;\n",
              "    border-radius: 50%;\n",
              "    cursor: pointer;\n",
              "    display: none;\n",
              "    fill: var(--fill-color);\n",
              "    height: 32px;\n",
              "    padding: 0;\n",
              "    width: 32px;\n",
              "  }\n",
              "\n",
              "  .colab-df-quickchart:hover {\n",
              "    background-color: var(--hover-bg-color);\n",
              "    box-shadow: 0 1px 2px rgba(60, 64, 67, 0.3), 0 1px 3px 1px rgba(60, 64, 67, 0.15);\n",
              "    fill: var(--button-hover-fill-color);\n",
              "  }\n",
              "\n",
              "  .colab-df-quickchart-complete:disabled,\n",
              "  .colab-df-quickchart-complete:disabled:hover {\n",
              "    background-color: var(--disabled-bg-color);\n",
              "    fill: var(--disabled-fill-color);\n",
              "    box-shadow: none;\n",
              "  }\n",
              "\n",
              "  .colab-df-spinner {\n",
              "    border: 2px solid var(--fill-color);\n",
              "    border-color: transparent;\n",
              "    border-bottom-color: var(--fill-color);\n",
              "    animation:\n",
              "      spin 1s steps(1) infinite;\n",
              "  }\n",
              "\n",
              "  @keyframes spin {\n",
              "    0% {\n",
              "      border-color: transparent;\n",
              "      border-bottom-color: var(--fill-color);\n",
              "      border-left-color: var(--fill-color);\n",
              "    }\n",
              "    20% {\n",
              "      border-color: transparent;\n",
              "      border-left-color: var(--fill-color);\n",
              "      border-top-color: var(--fill-color);\n",
              "    }\n",
              "    30% {\n",
              "      border-color: transparent;\n",
              "      border-left-color: var(--fill-color);\n",
              "      border-top-color: var(--fill-color);\n",
              "      border-right-color: var(--fill-color);\n",
              "    }\n",
              "    40% {\n",
              "      border-color: transparent;\n",
              "      border-right-color: var(--fill-color);\n",
              "      border-top-color: var(--fill-color);\n",
              "    }\n",
              "    60% {\n",
              "      border-color: transparent;\n",
              "      border-right-color: var(--fill-color);\n",
              "    }\n",
              "    80% {\n",
              "      border-color: transparent;\n",
              "      border-right-color: var(--fill-color);\n",
              "      border-bottom-color: var(--fill-color);\n",
              "    }\n",
              "    90% {\n",
              "      border-color: transparent;\n",
              "      border-bottom-color: var(--fill-color);\n",
              "    }\n",
              "  }\n",
              "</style>\n",
              "\n",
              "      <script>\n",
              "        async function quickchart(key) {\n",
              "          const quickchartButtonEl =\n",
              "            document.querySelector('#' + key + ' button');\n",
              "          quickchartButtonEl.disabled = true;  // To prevent multiple clicks.\n",
              "          quickchartButtonEl.classList.add('colab-df-spinner');\n",
              "          try {\n",
              "            const charts = await google.colab.kernel.invokeFunction(\n",
              "                'suggestCharts', [key], {});\n",
              "          } catch (error) {\n",
              "            console.error('Error during call to suggestCharts:', error);\n",
              "          }\n",
              "          quickchartButtonEl.classList.remove('colab-df-spinner');\n",
              "          quickchartButtonEl.classList.add('colab-df-quickchart-complete');\n",
              "        }\n",
              "        (() => {\n",
              "          let quickchartButtonEl =\n",
              "            document.querySelector('#df-9f5e5cd0-5550-40b7-b5b7-eedc127be745 button');\n",
              "          quickchartButtonEl.style.display =\n",
              "            google.colab.kernel.accessAllowed ? 'block' : 'none';\n",
              "        })();\n",
              "      </script>\n",
              "    </div>\n",
              "\n",
              "  <div id=\"id_9ceabe4f-9198-45d6-9f6e-91fd1d39c2fc\">\n",
              "    <style>\n",
              "      .colab-df-generate {\n",
              "        background-color: #E8F0FE;\n",
              "        border: none;\n",
              "        border-radius: 50%;\n",
              "        cursor: pointer;\n",
              "        display: none;\n",
              "        fill: #1967D2;\n",
              "        height: 32px;\n",
              "        padding: 0 0 0 0;\n",
              "        width: 32px;\n",
              "      }\n",
              "\n",
              "      .colab-df-generate:hover {\n",
              "        background-color: #E2EBFA;\n",
              "        box-shadow: 0px 1px 2px rgba(60, 64, 67, 0.3), 0px 1px 3px 1px rgba(60, 64, 67, 0.15);\n",
              "        fill: #174EA6;\n",
              "      }\n",
              "\n",
              "      [theme=dark] .colab-df-generate {\n",
              "        background-color: #3B4455;\n",
              "        fill: #D2E3FC;\n",
              "      }\n",
              "\n",
              "      [theme=dark] .colab-df-generate:hover {\n",
              "        background-color: #434B5C;\n",
              "        box-shadow: 0px 1px 3px 1px rgba(0, 0, 0, 0.15);\n",
              "        filter: drop-shadow(0px 1px 2px rgba(0, 0, 0, 0.3));\n",
              "        fill: #FFFFFF;\n",
              "      }\n",
              "    </style>\n",
              "    <button class=\"colab-df-generate\" onclick=\"generateWithVariable('corr_matrix')\"\n",
              "            title=\"Generate code using this dataframe.\"\n",
              "            style=\"display:none;\">\n",
              "\n",
              "  <svg xmlns=\"http://www.w3.org/2000/svg\" height=\"24px\"viewBox=\"0 0 24 24\"\n",
              "       width=\"24px\">\n",
              "    <path d=\"M7,19H8.4L18.45,9,17,7.55,7,17.6ZM5,21V16.75L18.45,3.32a2,2,0,0,1,2.83,0l1.4,1.43a1.91,1.91,0,0,1,.58,1.4,1.91,1.91,0,0,1-.58,1.4L9.25,21ZM18.45,9,17,7.55Zm-12,3A5.31,5.31,0,0,0,4.9,8.1,5.31,5.31,0,0,0,1,6.5,5.31,5.31,0,0,0,4.9,4.9,5.31,5.31,0,0,0,6.5,1,5.31,5.31,0,0,0,8.1,4.9,5.31,5.31,0,0,0,12,6.5,5.46,5.46,0,0,0,6.5,12Z\"/>\n",
              "  </svg>\n",
              "    </button>\n",
              "    <script>\n",
              "      (() => {\n",
              "      const buttonEl =\n",
              "        document.querySelector('#id_9ceabe4f-9198-45d6-9f6e-91fd1d39c2fc button.colab-df-generate');\n",
              "      buttonEl.style.display =\n",
              "        google.colab.kernel.accessAllowed ? 'block' : 'none';\n",
              "\n",
              "      buttonEl.onclick = () => {\n",
              "        google.colab.notebook.generateWithVariable('corr_matrix');\n",
              "      }\n",
              "      })();\n",
              "    </script>\n",
              "  </div>\n",
              "\n",
              "    </div>\n",
              "  </div>\n"
            ],
            "application/vnd.google.colaboratory.intrinsic+json": {
              "type": "dataframe",
              "variable_name": "corr_matrix",
              "summary": "{\n  \"name\": \"corr_matrix\",\n  \"rows\": 4,\n  \"fields\": [\n    {\n      \"column\": \"selling_price\",\n      \"properties\": {\n        \"dtype\": \"number\",\n        \"std\": 0.5598067379664916,\n        \"min\": -0.21293670714453689,\n        \"max\": 1.0,\n        \"num_unique_values\": 4,\n        \"samples\": [\n          0.40218840061475963,\n          0.9185833148930261,\n          1.0\n        ],\n        \"semantic_type\": \"\",\n        \"description\": \"\"\n      }\n    },\n    {\n      \"column\": \"year\",\n      \"properties\": {\n        \"dtype\": \"number\",\n        \"std\": 0.5405946779231794,\n        \"min\": -0.28867537267635274,\n        \"max\": 1.0,\n        \"num_unique_values\": 4,\n        \"samples\": [\n          1.0,\n          0.12637833109832727,\n          0.40218840061475963\n        ],\n        \"semantic_type\": \"\",\n        \"description\": \"\"\n      }\n    },\n    {\n      \"column\": \"km_driven\",\n      \"properties\": {\n        \"dtype\": \"number\",\n        \"std\": 0.607768356230513,\n        \"min\": -0.28867537267635274,\n        \"max\": 1.0,\n        \"num_unique_values\": 4,\n        \"samples\": [\n          -0.28867537267635274,\n          -0.12201059477099346,\n          -0.21293670714453689\n        ],\n        \"semantic_type\": \"\",\n        \"description\": \"\"\n      }\n    },\n    {\n      \"column\": \"ex_showroom_price\",\n      \"properties\": {\n        \"dtype\": \"number\",\n        \"std\": 0.5627960518281493,\n        \"min\": -0.12201059477099346,\n        \"max\": 1.0,\n        \"num_unique_values\": 4,\n        \"samples\": [\n          0.12637833109832727,\n          1.0,\n          0.9185833148930261\n        ],\n        \"semantic_type\": \"\",\n        \"description\": \"\"\n      }\n    }\n  ]\n}"
            }
          },
          "metadata": {},
          "execution_count": 2
        }
      ]
    },
    {
      "cell_type": "markdown",
      "source": [
        "Here’s the heatmap and correlation insights:\n",
        "\n",
        "Key Correlations:\n",
        "\n",
        "Selling Price & Ex-Showroom Price: Very strong positive correlation (0.92).\n",
        "\n",
        "Selling Price & Year: Moderate positive correlation (0.40) — newer bikes tend to sell for higher prices.\n",
        "\n",
        "Selling Price & Km Driven: Weak negative correlation (-0.21) — more kilometers driven usually lowers resale value.\n",
        "\n",
        "Year & Km Driven: Moderate negative correlation (-0.29) — newer bikes generally have fewer kilometers driven."
      ],
      "metadata": {
        "id": "i7AiJxxEHuzu"
      }
    },
    {
      "cell_type": "markdown",
      "source": [
        "Question 10: Summarize your findings in a brief report:\n",
        "\n",
        "●\tWhat are the most important factors affecting a bike's selling price?\n",
        "\n",
        "●\tMention any data cleaning or feature engineering you performed.\n",
        "\n",
        "\n",
        "Answer -\n",
        "\n",
        "Report on Factors Affecting Bike Selling Price\n",
        "\n",
        "1. Most Important Factors Affecting Selling Price:\n",
        "\n",
        "   - Ex-Showroom Price: The strongest driver of selling price, with a very high positive correlation (0.92). Bikes with higher original showroom prices retain higher resale values.\n",
        "\n",
        "   - Year (Age of Bike): Moderate positive correlation (0.40). Newer bikes tend to fetch better prices, while older models depreciate.\n",
        "\n",
        "   - Kilometers Driven: Weak negative correlation (-0.21). Bikes with higher mileage generally sell for lower prices, though the effect is not as strong as year or ex-showroom price.\n",
        "\n",
        "   - Ownership Type & Seller Type (Categorical Influence): While not captured in numeric correlation, these factors also influence resale value — for instance, 1st owner bikes and dealer sales often command higher prices.\n",
        "\n",
        "2. Data Cleaning & Feature Engineering Performed:\n",
        "\n",
        "   - Checked for Missing Values: Found missing entries in ex_showroom_price. These may need imputation (e.g., median replacement) or removal, depending on analysis goals.\n",
        "\n",
        "    - Data Type Review: Confirmed numeric columns (selling_price, year, km_driven, ex_showroom_price) and categorical columns (name, seller_type, owner).\n",
        "\n",
        "    - Outlier Handling (if applicable): Some km_driven values appeared unusually high (potential outliers) and may need further treatment.\n",
        "\n",
        "    - Feature Engineering Potential: Converting categorical variables (seller_type, owner) into dummy variables (one-hot encoding) can improve predictive modeling.\n",
        "\n",
        "Summary:\n",
        "\n",
        "The bike’s original showroom price, age (year), and mileage (km driven) are the most influential factors in determining resale value. Categorical variables like seller type and ownership history also matter but need encoding for modeling. Data cleaning mainly involved handling missing values and reviewing potential outliers."
      ],
      "metadata": {
        "id": "UB3FzGSGH2W9"
      }
    },
    {
      "cell_type": "code",
      "source": [],
      "metadata": {
        "id": "9h70QORXHfUs"
      },
      "execution_count": null,
      "outputs": []
    }
  ]
}